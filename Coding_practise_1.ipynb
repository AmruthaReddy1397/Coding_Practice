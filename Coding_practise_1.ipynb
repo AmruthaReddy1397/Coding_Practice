{
  "nbformat": 4,
  "nbformat_minor": 0,
  "metadata": {
    "colab": {
      "name": "Coding_practise_1.ipynb",
      "provenance": [],
      "collapsed_sections": [],
      "authorship_tag": "ABX9TyMnEqGIM0Cw+UwC9F6X3Zhf",
      "include_colab_link": true
    },
    "kernelspec": {
      "name": "python3",
      "display_name": "Python 3"
    },
    "language_info": {
      "name": "python"
    }
  },
  "cells": [
    {
      "cell_type": "markdown",
      "metadata": {
        "id": "view-in-github",
        "colab_type": "text"
      },
      "source": [
        "<a href=\"https://colab.research.google.com/github/AmruthaReddy1397/Coding_Practice/blob/main/Coding_practise_1.ipynb\" target=\"_parent\"><img src=\"https://colab.research.google.com/assets/colab-badge.svg\" alt=\"Open In Colab\"/></a>"
      ]
    },
    {
      "cell_type": "markdown",
      "metadata": {
        "id": "NdLnziG8nxRI"
      },
      "source": [
        "**Game with nos**  \n",
        "\n",
        "You are given an array arr[], you have to re-construct an array arr[].\n",
        "The values in arr[] are obtained by doing Xor of consecutive elements in the array."
      ]
    },
    {
      "cell_type": "code",
      "metadata": {
        "colab": {
          "base_uri": "https://localhost:8080/"
        },
        "id": "La_pxZ1Wnv_X",
        "outputId": "4001b9af-336c-4605-ce53-7ef8fdd6dfbc"
      },
      "source": [
        "def game_with_number (arr,  n) :\n",
        "    new_arr = []\n",
        "    for i in range(n):\n",
        "        if(i == n-1):\n",
        "            new_arr.append(arr[i])\n",
        "            break\n",
        "        else:\n",
        "            new_arr.append(arr[i]^arr[i+1])\n",
        "    return new_arr\n",
        "\n",
        "for _ in range(0,int(input())):\n",
        "    \n",
        "    n = int(input(\"Enter array size: \"))\n",
        "    arr = list(map(int,input(\"Enter values: \").strip().split()))\n",
        "    res = game_with_number(arr, n);\n",
        "    print(*res)"
      ],
      "execution_count": 4,
      "outputs": [
        {
          "output_type": "stream",
          "text": [
            "1\n",
            "Enter array size: 5\n",
            "Enter values: 34 12 6 8 32\n",
            "46 10 14 40 32\n"
          ],
          "name": "stdout"
        }
      ]
    },
    {
      "cell_type": "markdown",
      "metadata": {
        "id": "qVgnLyyivEV9"
      },
      "source": [
        "**Play With OR**  \n",
        "\n",
        "You are given an array arr[], you have to re-construct an array arr[].\n",
        "The values in arr[] are obtained by doing OR(bitwise or) of consecutive elements in the array."
      ]
    },
    {
      "cell_type": "code",
      "metadata": {
        "colab": {
          "base_uri": "https://localhost:8080/"
        },
        "id": "j0ZKOSWurJRE",
        "outputId": "8c43ae1d-3c90-4a38-c472-1b5cf3820fcb"
      },
      "source": [
        "def game_with_number (arr,  n) : \n",
        "    new_arr = []\n",
        "    for i in range(n):\n",
        "        if(i == n-1):\n",
        "            new_arr.append(arr[i])\n",
        "            break\n",
        "        else:\n",
        "            new_arr.append(arr[i]|arr[i+1])\n",
        "    return new_arr\n",
        "\n",
        "for _ in range(0,int(input())):\n",
        "    n = int(input())\n",
        "    arr = list(map(int,input().strip().split()))\n",
        "    res = game_with_number(arr, n);\n",
        "    print(*res)"
      ],
      "execution_count": 5,
      "outputs": [
        {
          "output_type": "stream",
          "text": [
            "1\n",
            "5\n",
            "2 31 4 13 8\n",
            "31 31 13 13 8\n"
          ],
          "name": "stdout"
        }
      ]
    },
    {
      "cell_type": "markdown",
      "metadata": {
        "id": "iVNjCMbFvLtB"
      },
      "source": [
        "**Wave Array**  \n",
        "\n",
        "Given a sorted array arr[] of distinct integers. Sort the array into a wave-like array and return it\n",
        "In other words, arrange the elements into a sequence such that arr[1] >= arr[2] <= arr[3] >= arr[4] <= arr[5]....."
      ]
    },
    {
      "cell_type": "code",
      "metadata": {
        "colab": {
          "base_uri": "https://localhost:8080/"
        },
        "id": "EYL1oh_zzNiA",
        "outputId": "10f1c69a-a28f-4a4f-a81e-2fdd1b556545"
      },
      "source": [
        "class Solution:\n",
        "    def convertToWave(self,arr,N):\n",
        "        for i in range(0,N-1,2):\n",
        "            arr[i],arr[i+1] = arr[i+1],arr[i]\n",
        "import math\n",
        "def main():\n",
        "  T=int(input())\n",
        "  while(T>0):\n",
        "    N=int(input())\n",
        "    A=[int(x) for x in input().split()]\n",
        "    ob=Solution()\n",
        "    ob.convertToWave(A,N)\n",
        "    for i in A:\n",
        "      print(i,end=\" \")\n",
        "    print()\n",
        "    T-=1\n",
        "\n",
        "if __name__==\"__main__\":\n",
        "    main()"
      ],
      "execution_count": 22,
      "outputs": [
        {
          "output_type": "stream",
          "text": [
            "1\n",
            "5\n",
            "1 2 3 4 5\n",
            "2 1 4 3 5 \n"
          ],
          "name": "stdout"
        }
      ]
    },
    {
      "cell_type": "markdown",
      "metadata": {
        "id": "xo6X1tolzsTS"
      },
      "source": [
        "**Reverse an array upto a given position**"
      ]
    },
    {
      "cell_type": "code",
      "metadata": {
        "colab": {
          "base_uri": "https://localhost:8080/"
        },
        "id": "lA3qVpYqzhie",
        "outputId": "5d72df19-b156-4c1c-d8e9-5ce23e07c5c1"
      },
      "source": [
        "from array import *\n",
        "arr = array('i',[])\n",
        "n = int(input(\"Enter Array size: \"))\n",
        "for i in range(n):\n",
        "  x = int(input(\"Enter element: \"))\n",
        "  arr.append(x)\n",
        "for i in range(n):\n",
        "  print(arr[i], end = \" \")\n",
        "print()\n",
        "m = int(input(\"Enter position: \"))\n",
        "if(m > n):\n",
        "  print(\"Invalid\")\n",
        "else:\n",
        "  j = m\n",
        "  for i in range((m)):\n",
        "    if (i >= j):\n",
        "      break\n",
        "    temp = 0\n",
        "    temp = arr[i]\n",
        "    arr[i] = arr[j]\n",
        "    arr[j] = temp\n",
        "    j -= 1\n",
        "for i in range(n):\n",
        "  print(arr[i], end = \" \")"
      ],
      "execution_count": 7,
      "outputs": [
        {
          "output_type": "stream",
          "text": [
            "Enter Array size: 5\n",
            "Enter element: 1\n",
            "Enter element: 34\n",
            "Enter element: 52\n",
            "Enter element: 3\n",
            "Enter element: 7\n",
            "1 34 52 3 7 \n",
            "Enter position: 3\n",
            "3 52 34 1 7 "
          ],
          "name": "stdout"
        }
      ]
    },
    {
      "cell_type": "code",
      "metadata": {
        "colab": {
          "base_uri": "https://localhost:8080/"
        },
        "id": "pEWaHKlFzyjx",
        "outputId": "e706f8c6-dfea-4232-8f93-fa9c49819f0c"
      },
      "source": [
        "a=[12,4,6,32,11]\n",
        "p=4\n",
        "new= a[p::-1]\n",
        "if p<len(a):\n",
        "  for i in range(p+1,len(a)):\n",
        "    new.append(a[i])\n",
        "print(new)"
      ],
      "execution_count": 8,
      "outputs": [
        {
          "output_type": "stream",
          "text": [
            "[11, 32, 6, 4, 12]\n"
          ],
          "name": "stdout"
        }
      ]
    },
    {
      "cell_type": "markdown",
      "metadata": {
        "id": "kMLx3f741Lbf"
      },
      "source": [
        "**Print prime numbers till n**"
      ]
    },
    {
      "cell_type": "code",
      "metadata": {
        "colab": {
          "base_uri": "https://localhost:8080/"
        },
        "id": "XT8-O5sA0weB",
        "outputId": "87f9ff27-db6a-42da-f370-fd6f8d935176"
      },
      "source": [
        "n = int(input())\n",
        "for i in range(2, n+1):\n",
        "  if i>1:\n",
        "    for j in range(2,i):\n",
        "        if(i % j==0):\n",
        "            break\n",
        "    else:\n",
        "        print(i)"
      ],
      "execution_count": 17,
      "outputs": [
        {
          "output_type": "stream",
          "text": [
            "7\n",
            "2\n",
            "3\n",
            "5\n",
            "7\n"
          ],
          "name": "stdout"
        }
      ]
    },
    {
      "cell_type": "markdown",
      "metadata": {
        "id": "7vwourT53X52"
      },
      "source": [
        "**Form a number divisible by 3 using array digits**  \n",
        "\n",
        "Given an array arr of integers of length N, the task is to find whether it’s possible to construct an integer using all the digits of these numbers such that it would be divisible by 3. If it is possible then print “1” and if not print “0”."
      ]
    },
    {
      "cell_type": "code",
      "metadata": {
        "colab": {
          "base_uri": "https://localhost:8080/"
        },
        "id": "SyUhwvEm3YnD",
        "outputId": "1a3c5fbf-41ab-4dcf-d601-90cf02ebdf1a"
      },
      "source": [
        "class Solution:\n",
        "    def isPossible(self, N, arr):\n",
        "        sum = 0\n",
        "        for i in range(N):\n",
        "            sum = sum + arr[i]\n",
        "        if (sum%3 == 0):\n",
        "            return 1\n",
        "        else:\n",
        "            return 0\n",
        "\n",
        "if __name__ == '__main__':\n",
        "    t = int(input())\n",
        "    for _ in range(t):\n",
        "        N = int(input())\n",
        "        arr = input().split()\n",
        "        for i in range(N):\n",
        "            arr[i] = int(arr[i])\n",
        "        \n",
        "        ob = Solution()\n",
        "        print(ob.isPossible(N, arr))"
      ],
      "execution_count": 18,
      "outputs": [
        {
          "output_type": "stream",
          "text": [
            "1\n",
            "3\n",
            "1 4 9\n",
            "0\n"
          ],
          "name": "stdout"
        }
      ]
    },
    {
      "cell_type": "markdown",
      "metadata": {
        "id": "BFdnwySv3ojb"
      },
      "source": [
        "**Segregate 0s and 1s**  \n",
        "\n",
        "Given an array of length N consisting of only 0s and 1s in random order. Modify the array to segregate 0s on left side and 1s on the right side of the array."
      ]
    },
    {
      "cell_type": "code",
      "metadata": {
        "colab": {
          "base_uri": "https://localhost:8080/"
        },
        "id": "5mLUcq2k7yDc",
        "outputId": "97939225-12e1-4ed5-efe3-dd25eb31d37b"
      },
      "source": [
        "class Solution:\n",
        "    def segregate0and1(self, arr, n):\n",
        "        count = 0\n",
        "        for i in range(n):\n",
        "            if arr[i] == 0:\n",
        "                count += 1\n",
        "        for i in range(count):\n",
        "            arr[i] = 0\n",
        "        for i in range(count,n,1):\n",
        "            arr[i] = 1\n",
        "        return arr        \n",
        "if __name__ == '__main__':\n",
        "    tc = int(input())\n",
        "    while tc > 0:\n",
        "        n = int(input())\n",
        "        arr = list(map(int, input().strip().split()))\n",
        "        ob = Solution()\n",
        "        ob.segregate0and1(arr, n)\n",
        "        print(*arr)\n",
        "        tc -= 1"
      ],
      "execution_count": 19,
      "outputs": [
        {
          "output_type": "stream",
          "text": [
            "1\n",
            "7\n",
            "1 0 0 1 1 1 0\n",
            "0 0 0 1 1 1 1\n"
          ],
          "name": "stdout"
        }
      ]
    },
    {
      "cell_type": "code",
      "metadata": {
        "colab": {
          "base_uri": "https://localhost:8080/"
        },
        "id": "KYWTBucG73sj",
        "outputId": "79bb3f3a-28c9-49ae-ecb3-304db85f2895"
      },
      "source": [
        "#without for loop\n",
        "class Solution:\n",
        "    def segregate0and1(self, arr, n):\n",
        "        new_array = arr.sort()\n",
        "        return new_array        \n",
        "if __name__ == '__main__':\n",
        "    tc = int(input())\n",
        "    while tc > 0:\n",
        "        n = int(input())\n",
        "        arr = list(map(int, input().strip().split()))\n",
        "        ob = Solution()\n",
        "        ob.segregate0and1(arr, n)\n",
        "        print(*arr)\n",
        "        tc -= 1"
      ],
      "execution_count": 21,
      "outputs": [
        {
          "output_type": "stream",
          "text": [
            "1\n",
            "10\n",
            "1 1 1 0 0 1 0 1 0 1\n",
            "0 0 0 0 1 1 1 1 1 1\n"
          ],
          "name": "stdout"
        }
      ]
    },
    {
      "cell_type": "markdown",
      "metadata": {
        "id": "KpZyOjSq9V0A"
      },
      "source": [
        "**Count the Zeros**  \n",
        "\n",
        "Given an array of size N consisting of only 0's and 1's. The array is sorted in such a manner that all the 1's are placed first and then they are followed by all the 0's. Find the count of all the 0's."
      ]
    },
    {
      "cell_type": "code",
      "metadata": {
        "colab": {
          "base_uri": "https://localhost:8080/"
        },
        "id": "JP9Nns_M-g5c",
        "outputId": "3364c056-793a-4ccc-816a-f899913a4a44"
      },
      "source": [
        "class Solution:\n",
        "    def countZeroes(self, arr, n):\n",
        "        low=0\n",
        "        high=n-1\n",
        "        while low<=high:\n",
        "            m=(low+high)//2\n",
        "            if arr[0]==0:\n",
        "                return n\n",
        "            if arr[m]==0 and arr[m-1]!=0  :\n",
        "                return n-m\n",
        "            elif arr[m]>0:\n",
        "                low=low+1\n",
        "            else:\n",
        "                high=high-1\n",
        "if __name__ == '__main__':\n",
        "    tc = int(input())\n",
        "    while tc > 0:\n",
        "        n = int(input())\n",
        "        arr = list(map(int, input().strip().split()))\n",
        "        ob = Solution()\n",
        "        ans = ob.countZeroes(arr, n)\n",
        "        print(ans)\n",
        "        tc -= 1\n"
      ],
      "execution_count": 24,
      "outputs": [
        {
          "output_type": "stream",
          "text": [
            "1\n",
            "8\n",
            "1 1 1 0 0 0 0 0\n",
            "5\n"
          ],
          "name": "stdout"
        }
      ]
    }
  ]
}